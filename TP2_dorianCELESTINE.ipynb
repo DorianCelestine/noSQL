{
 "cells": [
  {
   "cell_type": "code",
   "execution_count": 2,
   "metadata": {},
   "outputs": [
    {
     "name": "stdout",
     "output_type": "stream",
     "text": [
      "connection success\n"
     ]
    }
   ],
   "source": [
    "#Connection a la BD\n",
    "import json\n",
    "from bson import BSON, decode_all\n",
    "from pprint import pprint\n",
    "\n",
    "from pymongo import MongoClient\n",
    "client = MongoClient('localhost',27017)\n",
    "db = client.gym\n",
    "gymnases = db[\"gymnases\"]\n",
    "athletes = db[\"athletes\"]\n",
    "\n",
    "print('connection success')"
   ]
  },
  {
   "cell_type": "code",
   "execution_count": 48,
   "metadata": {},
   "outputs": [],
   "source": [
    "#with open('GymnasesMetadata.json') as f:\n",
    " #   filedata = json.load(f)\n",
    "#with open('SportifsMetadata.json') as f2:\n",
    " #   filedata2 = json.load(f2)\n",
    "#print('import success')"
   ]
  },
  {
   "cell_type": "code",
   "execution_count": 3,
   "metadata": {},
   "outputs": [
    {
     "name": "stdout",
     "output_type": "stream",
     "text": [
      "import success\n"
     ]
    }
   ],
   "source": [
    "gymnases.drop()\n",
    "\n",
    "with open('Gymnases.bson', 'rb') as f:\n",
    "    gymnases.insert_many(decode_all(f.read()))\n",
    "    \n",
    "athletes.drop()\n",
    "\n",
    "with open('Sportifs.bson', 'rb') as f:\n",
    "    athletes.insert_many(decode_all(f.read()))\n",
    "    \n",
    "print('import success')"
   ]
  },
  {
   "cell_type": "code",
   "execution_count": 27,
   "metadata": {},
   "outputs": [
    {
     "data": {
      "text/plain": [
       "{'_id': '566eec69662b388eba464299',\n",
       " 'IdGymnase': 1,\n",
       " 'NomGymnase': 'PAUL ELUARD',\n",
       " 'Adresse': '2 rue des pépines',\n",
       " 'Ville': 'STAINS',\n",
       " 'Surface': 200,\n",
       " 'Seances': [{'IdSportifEntraineur': 149,\n",
       "   'Jour': 'Samedi',\n",
       "   'Horaire': 9.0,\n",
       "   'Duree': 60,\n",
       "   'Libelle': 'Basket ball'},\n",
       "  {'IdSportifEntraineur': 1,\n",
       "   'Jour': 'Lundi',\n",
       "   'Horaire': 9.0,\n",
       "   'Duree': 60,\n",
       "   'Libelle': 'Hand ball'},\n",
       "  {'IdSportifEntraineur': 1,\n",
       "   'Jour': 'Lundi',\n",
       "   'Horaire': 10.0,\n",
       "   'Duree': 60,\n",
       "   'Libelle': 'Hand ball'},\n",
       "  {'IdSportifEntraineur': 1,\n",
       "   'Jour': 'Lundi',\n",
       "   'Horaire': 11.3,\n",
       "   'Duree': 60,\n",
       "   'Libelle': 'Hand ball'},\n",
       "  {'IdSportifEntraineur': 1,\n",
       "   'Jour': 'Lundi',\n",
       "   'Horaire': 14.0,\n",
       "   'Duree': 90,\n",
       "   'Libelle': 'Hand ball'},\n",
       "  {'IdSportifEntraineur': 1,\n",
       "   'Jour': 'lundi',\n",
       "   'Horaire': 17.3,\n",
       "   'Duree': 120,\n",
       "   'Libelle': 'Hand ball'},\n",
       "  {'IdSportifEntraineur': 1,\n",
       "   'Jour': 'Lundi',\n",
       "   'Horaire': 19.3,\n",
       "   'Duree': 120,\n",
       "   'Libelle': 'Hand ball'},\n",
       "  {'IdSportifEntraineur': 2,\n",
       "   'Jour': 'Dimanche',\n",
       "   'Horaire': 17.3,\n",
       "   'Duree': 120,\n",
       "   'Libelle': 'Hand ball'},\n",
       "  {'IdSportifEntraineur': 2,\n",
       "   'Jour': 'Dimanche',\n",
       "   'Horaire': 19.3,\n",
       "   'Duree': 120,\n",
       "   'Libelle': 'Hand ball'},\n",
       "  {'IdSportifEntraineur': 2,\n",
       "   'Jour': 'mardi',\n",
       "   'Horaire': 17.3,\n",
       "   'Duree': 120,\n",
       "   'Libelle': 'Hand ball'},\n",
       "  {'IdSportifEntraineur': 2,\n",
       "   'Jour': 'mercredi',\n",
       "   'Horaire': 17.3,\n",
       "   'Duree': 120,\n",
       "   'Libelle': 'Hand ball'},\n",
       "  {'IdSportifEntraineur': 2,\n",
       "   'Jour': 'Samedi',\n",
       "   'Horaire': 15.3,\n",
       "   'Duree': 60,\n",
       "   'Libelle': 'Hand ball'},\n",
       "  {'IdSportifEntraineur': 2,\n",
       "   'Jour': 'Samedi',\n",
       "   'Horaire': 16.3,\n",
       "   'Duree': 60,\n",
       "   'Libelle': 'Hand ball'},\n",
       "  {'IdSportifEntraineur': 2,\n",
       "   'Jour': 'Samedi',\n",
       "   'Horaire': 17.3,\n",
       "   'Duree': 120,\n",
       "   'Libelle': 'Hand ball'},\n",
       "  {'IdSportifEntraineur': 3,\n",
       "   'Jour': 'jeudi',\n",
       "   'Horaire': 20.0,\n",
       "   'Duree': 30,\n",
       "   'Libelle': 'Hand ball'},\n",
       "  {'IdSportifEntraineur': 3,\n",
       "   'Jour': 'lundi',\n",
       "   'Horaire': 14.0,\n",
       "   'Duree': 60,\n",
       "   'Libelle': 'Hand ball'},\n",
       "  {'IdSportifEntraineur': 3,\n",
       "   'Jour': 'lundi',\n",
       "   'Horaire': 18.0,\n",
       "   'Duree': 30,\n",
       "   'Libelle': 'Hand ball'},\n",
       "  {'IdSportifEntraineur': 3,\n",
       "   'Jour': 'lundi',\n",
       "   'Horaire': 19.0,\n",
       "   'Duree': 30,\n",
       "   'Libelle': 'Hand ball'},\n",
       "  {'IdSportifEntraineur': 3,\n",
       "   'Jour': 'lundi',\n",
       "   'Horaire': 20.0,\n",
       "   'Duree': 30,\n",
       "   'Libelle': 'Hand ball'},\n",
       "  {'IdSportifEntraineur': 7,\n",
       "   'Jour': 'mercredi',\n",
       "   'Horaire': 17.0,\n",
       "   'Duree': 90,\n",
       "   'Libelle': 'Hockey'}]}"
      ]
     },
     "execution_count": 27,
     "metadata": {},
     "output_type": "execute_result"
    }
   ],
   "source": [
    "#verif\n",
    "gymnases.find_one()"
   ]
  },
  {
   "cell_type": "code",
   "execution_count": 72,
   "metadata": {},
   "outputs": [
    {
     "name": "stderr",
     "output_type": "stream",
     "text": [
      "<ipython-input-72-6ead131c9574>:1: DeprecationWarning: count is deprecated. Use estimated_document_count or count_documents instead. Please note that $where must be replaced by $expr, $near must be replaced by $geoWithin with $center, and $nearSphere must be replaced by $geoWithin with $centerSphere\n",
      "  gymnases.count()\n"
     ]
    },
    {
     "data": {
      "text/plain": [
       "28"
      ]
     },
     "execution_count": 72,
     "metadata": {},
     "output_type": "execute_result"
    }
   ],
   "source": [
    "gymnases.count()"
   ]
  },
  {
   "cell_type": "code",
   "execution_count": 73,
   "metadata": {
    "scrolled": true
   },
   "outputs": [
    {
     "name": "stderr",
     "output_type": "stream",
     "text": [
      "<ipython-input-73-88196403fadb>:1: DeprecationWarning: count is deprecated. Use estimated_document_count or count_documents instead. Please note that $where must be replaced by $expr, $near must be replaced by $geoWithin with $center, and $nearSphere must be replaced by $geoWithin with $centerSphere\n",
      "  athletes.count()\n"
     ]
    },
    {
     "data": {
      "text/plain": [
       "150"
      ]
     },
     "execution_count": 73,
     "metadata": {},
     "output_type": "execute_result"
    }
   ],
   "source": [
    "athletes.count()"
   ]
  },
  {
   "cell_type": "code",
   "execution_count": 26,
   "metadata": {},
   "outputs": [
    {
     "data": {
      "text/plain": [
       "{'_id': '566eec5f662b388eba464203',\n",
       " 'IdSportif': 1,\n",
       " 'Nom': 'BOUTAHAR',\n",
       " 'Prenom': 'Abderahim',\n",
       " 'Sexe': 'm',\n",
       " 'Age': 30,\n",
       " 'Sports': {'Jouer': ['Volley ball', 'Tennis', 'Football'],\n",
       "  'Arbitrer': ['Basket ball', 'Volley ball', 'Hockey'],\n",
       "  'Entrainer': ['Basket ball',\n",
       "   'Volley ball',\n",
       "   'Hand ball',\n",
       "   'Hockey',\n",
       "   'Badmington']}}"
      ]
     },
     "execution_count": 26,
     "metadata": {},
     "output_type": "execute_result"
    }
   ],
   "source": [
    "#verif\n",
    "athletes.find_one()"
   ]
  },
  {
   "cell_type": "code",
   "execution_count": 66,
   "metadata": {},
   "outputs": [
    {
     "name": "stdout",
     "output_type": "stream",
     "text": [
      "{'_id': '566eec5f662b388eba464204', 'IdSportif': 2, 'Nom': 'KERVADEC', 'Prenom': 'Yann', 'Sexe': 'M', 'Age': 28, 'IdSportifConseiller': 1, 'Sports': {'Jouer': ['Basket ball', 'Volley ball', 'Ping pong', 'Football'], 'Arbitrer': ['Hockey', 'Football'], 'Entrainer': ['Basket ball', 'Volley ball', 'Hand ball', 'Tennis', 'Hockey', 'Badmington', 'Ping pong', 'Boxe']}}\n"
     ]
    }
   ],
   "source": [
    "for x in athletes.find({\"Nom\": \"KERVADEC\"}):\n",
    "    pprint(x)"
   ]
  },
  {
   "cell_type": "code",
   "execution_count": 87,
   "metadata": {},
   "outputs": [
    {
     "name": "stdout",
     "output_type": "stream",
     "text": [
      "{'Nom': 'DORLEANS', 'Age': 32}\n",
      "{'Nom': 'RABAHI', 'Age': 40}\n",
      "{'Nom': 'TIZEGHAT', 'Age': 32}\n",
      "{'Nom': 'BAZOUD', 'Age': 32}\n",
      "{'Nom': 'HOUEL', 'Age': 40}\n",
      "{'Nom': 'BONE', 'Age': 32}\n"
     ]
    }
   ],
   "source": [
    "for x in athletes.find({\"$or\":[{\"Age\":32}, {\"Age\":40}]}, {\"Nom\" :1, \"Age\": 1, \"_id\": 0}):\n",
    "    print(x)"
   ]
  },
  {
   "cell_type": "code",
   "execution_count": 86,
   "metadata": {},
   "outputs": [
    {
     "name": "stdout",
     "output_type": "stream",
     "text": [
      "{'Nom': 'KERVADEC', 'Sports': {'Jouer': ['Basket ball', 'Volley ball', 'Ping pong', 'Football']}}\n",
      "{'Nom': 'COMES', 'Sports': {'Jouer': ['Basket ball', 'Volley ball', 'Badmington', 'Ping pong']}}\n",
      "{'Nom': 'RETALDI', 'Sports': {'Jouer': ['Basket ball', 'Volley ball', 'Hand ball', 'Ping pong']}}\n",
      "{'Nom': 'CAILLIOT', 'Sports': {'Jouer': ['Basket ball', 'Volley ball', 'Ping pong']}}\n",
      "{'Nom': 'TIENER', 'Sports': {'Jouer': ['Basket ball', 'Volley ball', 'Hand ball', 'Ping pong', 'Football']}}\n",
      "{'Nom': 'LEDUFAUD', 'Sports': {'Jouer': ['Basket ball', 'Volley ball', 'Ping pong', 'Football']}}\n",
      "{'Nom': 'LEJEUNE', 'Sports': {'Jouer': ['Basket ball', 'Volley ball', 'Badmington', 'Ping pong']}}\n",
      "{'Nom': 'RABAHI', 'Sports': {'Jouer': ['Basket ball', 'Volley ball', 'Hand ball', 'Ping pong', 'Football']}}\n",
      "{'Nom': 'VAN CAUTER', 'Sports': {'Jouer': ['Basket ball', 'Volley ball', 'Hand ball', 'Badmington', 'Ping pong', 'Football']}}\n",
      "{'Nom': 'TANQUE', 'Sports': {'Jouer': ['Basket ball', 'Volley ball', 'Hand ball', 'Ping pong', 'Football']}}\n",
      "{'Nom': 'DJELOUDANE', 'Sports': {'Jouer': ['Basket ball', 'Volley ball', 'Ping pong', 'Football']}}\n",
      "{'Nom': 'VALIN', 'Sports': {'Jouer': ['Basket ball', 'Hand ball', 'Badmington', 'Ping pong', 'Football']}}\n",
      "{'Nom': 'ADIBO', 'Sports': {'Jouer': ['Basket ball', 'Ping pong', 'Football']}}\n",
      "{'Nom': 'HEDDI', 'Sports': {'Jouer': ['Basket ball', 'Badmington', 'Ping pong']}}\n",
      "{'Nom': 'JOUVE', 'Sports': {'Jouer': ['Basket ball', 'Ping pong']}}\n",
      "{'Nom': 'KALOMBO', 'Sports': {'Jouer': ['Basket ball', 'Badmington', 'Ping pong', 'Football']}}\n",
      "{'Nom': 'LOPEZ', 'Sports': {'Jouer': ['Basket ball', 'Hand ball', 'Ping pong', 'Football']}}\n",
      "{'Nom': 'DANDOIS', 'Sports': {'Jouer': ['Basket ball', 'Badmington', 'Ping pong', 'Football']}}\n",
      "{'Nom': 'DEMMER', 'Sports': {'Jouer': ['Basket ball', 'Badmington', 'Ping pong', 'Football']}}\n",
      "{'Nom': 'GUERRAOUI', 'Sports': {'Jouer': ['Basket ball', 'Ping pong']}}\n",
      "{'Nom': 'GUIGUI', 'Sports': {'Jouer': ['Basket ball', 'Badmington', 'Ping pong', 'Football']}}\n",
      "{'Nom': 'CLERICE', 'Sports': {'Jouer': ['Basket ball', 'Badmington', 'Ping pong']}}\n",
      "{'Nom': 'AMAND', 'Sports': {'Jouer': ['Basket ball', 'Ping pong', 'Football']}}\n",
      "{'Nom': 'MARIE', 'Sports': {'Jouer': ['Basket ball', 'Hand ball', 'Ping pong']}}\n",
      "{'Nom': 'HEON', 'Sports': {'Jouer': ['Basket ball', 'Ping pong', 'Football']}}\n",
      "{'Nom': 'HOCHET', 'Sports': {'Jouer': ['Basket ball', 'Ping pong', 'Football']}}\n",
      "{'Nom': 'HAMARD', 'Sports': {'Jouer': ['Basket ball', 'Ping pong', 'Football']}}\n",
      "{'Nom': 'LEJEUNE', 'Sports': {'Jouer': ['Basket ball', 'Ping pong', 'Football']}}\n",
      "{'Nom': 'LECHEVALIER', 'Sports': {'Jouer': ['Basket ball', 'Ping pong', 'Football']}}\n",
      "{'Nom': 'LEROUX', 'Sports': {'Jouer': ['Basket ball', 'Hand ball', 'Ping pong', 'Football']}}\n",
      "{'Nom': 'RICHARD', 'Sports': {'Jouer': ['Basket ball', 'Hand ball', 'Ping pong', 'Football']}}\n",
      "{'Nom': 'STILO', 'Sports': {'Jouer': ['Basket ball', 'Hand ball', 'Ping pong', 'Football']}}\n",
      "{'Nom': 'LAURENCE', 'Sports': {'Jouer': ['Basket ball', 'Ping pong', 'Football']}}\n",
      "{'Nom': 'SAUVAGE', 'Sports': {'Jouer': ['Basket ball', 'Hand ball', 'Ping pong', 'Football']}}\n",
      "{'Nom': 'FROMENT', 'Sports': {'Jouer': ['Basket ball', 'Ping pong', 'Football']}}\n",
      "{'Nom': 'LETHIMONNIER', 'Sports': {'Jouer': ['Basket ball', 'Hand ball', 'Ping pong', 'Football']}}\n",
      "{'Nom': 'JALON', 'Sports': {'Jouer': ['Basket ball', 'Ping pong', 'Football']}}\n",
      "{'Nom': 'DABON', 'Sports': {'Jouer': ['Basket ball', 'Ping pong', 'Football']}}\n",
      "{'Nom': 'DORON', 'Sports': {'Jouer': ['Basket ball', 'Ping pong', 'Football']}}\n",
      "{'Nom': 'BELZ', 'Sports': {'Jouer': 'Basket ball'}}\n",
      "{'Nom': 'HENRY', 'Sports': {'Jouer': ['Basket ball', 'Hand ball']}}\n"
     ]
    }
   ],
   "source": [
    "for x in athletes.find({\"Sports.Jouer\" : \"Basket ball\"}, {\"Nom\": 1, \"Sports.Jouer\": 1, \"_id\": 0}):\n",
    "    print(x)"
   ]
  },
  {
   "cell_type": "code",
   "execution_count": 93,
   "metadata": {},
   "outputs": [
    {
     "name": "stdout",
     "output_type": "stream",
     "text": [
      "{'Nom': 'HUE', 'Sexe': 'F', 'Age': 25}\n",
      "{'Nom': 'DORLEANS', 'Sexe': 'M', 'Age': 32}\n",
      "{'Nom': 'COMES', 'Sexe': 'F', 'Age': 22}\n",
      "{'Nom': 'RETALDI', 'Sexe': 'F', 'Age': 30}\n",
      "{'Nom': 'ANTUNES', 'Sexe': 'F', 'Age': 23}\n",
      "{'Nom': 'CAILLIOT', 'Sexe': 'F', 'Age': 24}\n",
      "{'Nom': 'HOSNI', 'Sexe': 'F', 'Age': 25}\n",
      "{'Nom': 'LEJEUNE', 'Sexe': 'F', 'Age': 23}\n",
      "{'Nom': 'MICHEL', 'Sexe': 'F', 'Age': 23}\n",
      "{'Nom': 'RABAHI', 'Sexe': 'M', 'Age': 40}\n",
      "{'Nom': 'ROUSSEL', 'Sexe': 'F', 'Age': 22}\n",
      "{'Nom': 'LAZZARI', 'Sexe': 'F', 'Age': 25}\n",
      "{'Nom': 'DELOVINA', 'Sexe': 'F', 'Age': 22}\n",
      "{'Nom': 'MATHIEU', 'Sexe': 'F', 'Age': 23}\n",
      "{'Nom': 'GROEN', 'Sexe': 'F', 'Age': 25}\n",
      "{'Nom': 'HEDDI', 'Sexe': 'F', 'Age': 23}\n",
      "{'Nom': 'JOUVE', 'Sexe': 'F', 'Age': 24}\n",
      "{'Nom': 'GUERRAOUI', 'Sexe': 'F', 'Age': 25}\n",
      "{'Nom': 'CLERICE', 'Sexe': 'F', 'Age': 23}\n",
      "{'Nom': 'TIZEGHAT', 'Sexe': 'M', 'Age': 32}\n",
      "{'Nom': 'BAZOUD', 'Sexe': 'M', 'Age': 32}\n",
      "{'Nom': 'LANOE', 'Sexe': 'F', 'Age': 30}\n",
      "{'Nom': 'VONTHRON', 'Sexe': 'F', 'Age': 26}\n",
      "{'Nom': 'REGNAULD', 'Sexe': 'F', 'Age': 30}\n",
      "{'Nom': 'MARIE', 'Sexe': 'F', 'Age': 25}\n",
      "{'Nom': 'SARRAZIN', 'Sexe': 'F', 'Age': 39}\n",
      "{'Nom': 'HALGATTE', 'Sexe': 'F', 'Age': 30}\n",
      "{'Nom': 'DROULLON', 'Sexe': 'F', 'Age': 30}\n",
      "{'Nom': 'HOUEL', 'Sexe': 'M', 'Age': 40}\n",
      "{'Nom': 'LEROUX', 'Sexe': 'M', 'Age': 36}\n",
      "{'Nom': 'BONE', 'Sexe': 'M', 'Age': 32}\n",
      "{'Nom': 'SEHIER', 'Sexe': 'F', 'Age': 30}\n",
      "{'Nom': 'MICHEL', 'Sexe': 'F', 'Age': 22}\n",
      "{'Nom': 'BELUAU', 'Sexe': 'F', 'Age': 30}\n",
      "{'Nom': 'FERREIRA', 'Sexe': 'F', 'Age': 30}\n",
      "{'Nom': 'BECQUET', 'Sexe': 'F', 'Age': 30}\n",
      "{'Nom': 'SWERTVAEGER', 'Sexe': 'F', 'Age': 30}\n",
      "{'Nom': 'GALLOIS', 'Sexe': 'F', 'Age': 30}\n",
      "{'Nom': 'LABOULAIS', 'Sexe': 'F', 'Age': 26}\n",
      "{'Nom': 'DUDOUIT', 'Sexe': 'F', 'Age': 26}\n",
      "{'Nom': 'MADELAINE', 'Sexe': 'F', 'Age': 26}\n",
      "{'Nom': 'BESNARD', 'Sexe': 'F', 'Age': 26}\n",
      "{'Nom': 'BELZ', 'Sexe': 'F', 'Age': 26}\n",
      "{'Nom': 'BONNET', 'Sexe': 'F', 'Age': 26}\n",
      "{'Nom': 'CORNET', 'Sexe': 'F', 'Age': 26}\n",
      "{'Nom': 'BEUZELIN', 'Sexe': 'F', 'Age': 26}\n",
      "{'Nom': 'GRANDIDIER', 'Sexe': 'F', 'Age': 26}\n",
      "{'Nom': 'LENEVEU', 'Sexe': 'F', 'Age': 25}\n",
      "{'Nom': 'CLERICE', 'Sexe': 'F', 'Age': 25}\n",
      "{'Nom': 'COMES', 'Sexe': 'F', 'Age': 27}\n",
      "{'Nom': 'BELZ', 'Sexe': 'F', 'Age': 27}\n"
     ]
    }
   ],
   "source": [
    "for x in athletes.find({\"$or\":[{\"Age\" : {\"$gte\":32}}, {\"Sexe\" : \"F\"}]}, {\"Nom\": 1, \"Age\": 1, \"_id\": 0, \"Sexe\": 1}):\n",
    "    print(x)"
   ]
  },
  {
   "cell_type": "code",
   "execution_count": 59,
   "metadata": {},
   "outputs": [
    {
     "name": "stderr",
     "output_type": "stream",
     "text": [
      "<ipython-input-59-8f37ad8d6d5e>:1: DeprecationWarning: count is deprecated. Use Collection.count_documents instead.\n",
      "  athletes.find({\"Sexe\" : \"F\"}).count()\n"
     ]
    },
    {
     "data": {
      "text/plain": [
       "44"
      ]
     },
     "execution_count": 59,
     "metadata": {},
     "output_type": "execute_result"
    }
   ],
   "source": [
    "athletes.find({\"Sexe\" : \"F\"}).count()"
   ]
  },
  {
   "cell_type": "code",
   "execution_count": 98,
   "metadata": {},
   "outputs": [
    {
     "name": "stdout",
     "output_type": "stream",
     "text": [
      "{'Nom': 'BOUTAHAR', 'Sexe': 'm', 'Age': 30}\n",
      "{'Nom': 'KERVADEC', 'Sexe': 'M', 'Age': 28}\n",
      "{'Nom': 'HUE', 'Sexe': 'F', 'Age': 25}\n",
      "{'Nom': 'COMES', 'Sexe': 'F', 'Age': 22}\n",
      "{'Nom': 'RETALDI', 'Sexe': 'F', 'Age': 30}\n",
      "{'Nom': 'GOMEZ', 'Sexe': 'M', 'Age': 25}\n",
      "{'Nom': 'ANTUNES', 'Sexe': 'F', 'Age': 23}\n",
      "{'Nom': 'BLANDET', 'Sexe': 'M', 'Age': 23}\n",
      "{'Nom': 'BONNET', 'Sexe': 'M', 'Age': 24}\n",
      "{'Nom': 'BORREL', 'Sexe': 'M', 'Age': 24}\n",
      "{'Nom': 'BOYON', 'Sexe': 'M', 'Age': 22}\n",
      "{'Nom': 'CAILLIOT', 'Sexe': 'F', 'Age': 24}\n",
      "{'Nom': 'CHAMPENOIS', 'Sexe': 'M', 'Age': 25}\n",
      "{'Nom': 'COLAS', 'Sexe': 'M', 'Age': 24}\n",
      "{'Nom': 'COLOMB', 'Sexe': 'M', 'Age': 22}\n",
      "{'Nom': 'HOSNI', 'Sexe': 'F', 'Age': 25}\n",
      "{'Nom': 'TESTEMONT', 'Sexe': 'M', 'Age': 25}\n",
      "{'Nom': 'TIENER', 'Sexe': 'M', 'Age': 25}\n",
      "{'Nom': 'LE BOUCHER', 'Sexe': 'M', 'Age': 22}\n",
      "{'Nom': 'LEDUFAUD', 'Sexe': 'M', 'Age': 25}\n",
      "{'Nom': 'LEGRAND', 'Sexe': 'M', 'Age': 24}\n",
      "{'Nom': 'LEJEUNE', 'Sexe': 'F', 'Age': 23}\n",
      "{'Nom': 'MARTORA', 'Sexe': 'M', 'Age': 23}\n",
      "{'Nom': 'MICHEL', 'Sexe': 'F', 'Age': 23}\n",
      "{'Nom': 'NIELLEZ', 'Sexe': 'M', 'Age': 23}\n",
      "{'Nom': 'ROUSSEL', 'Sexe': 'F', 'Age': 22}\n",
      "{'Nom': 'SCHINK', 'Sexe': 'M', 'Age': 24}\n",
      "{'Nom': 'STEMPUT', 'Sexe': 'M', 'Age': 22}\n",
      "{'Nom': 'VAN CAUTER', 'Sexe': 'M', 'Age': 23}\n",
      "{'Nom': 'RAMPNOUX', 'Sexe': 'M', 'Age': 23}\n",
      "{'Nom': 'LHERPINIERE', 'Sexe': 'M', 'Age': 24}\n",
      "{'Nom': 'TANQUE', 'Sexe': 'M', 'Age': 24}\n",
      "{'Nom': 'DJELOUDANE', 'Sexe': 'M', 'Age': 28}\n",
      "{'Nom': 'LAZZARI', 'Sexe': 'F', 'Age': 25}\n",
      "{'Nom': 'VASSEMON', 'Sexe': 'M', 'Age': 24}\n",
      "{'Nom': 'MOREL', 'Sexe': 'M', 'Age': 24}\n",
      "{'Nom': 'VALIN', 'Sexe': 'M', 'Age': 23}\n",
      "{'Nom': 'DELOVINA', 'Sexe': 'F', 'Age': 22}\n",
      "{'Nom': 'LEHOUX', 'Sexe': 'M', 'Age': 23}\n",
      "{'Nom': 'MATHIEU', 'Sexe': 'F', 'Age': 23}\n",
      "{'Nom': 'ADIBO', 'Sexe': 'M', 'Age': 28}\n",
      "{'Nom': 'CHAVANT', 'Sexe': 'M', 'Age': 25}\n",
      "{'Nom': 'DAUXIAN', 'Sexe': 'M', 'Age': 24}\n",
      "{'Nom': 'GROEN', 'Sexe': 'F', 'Age': 25}\n",
      "{'Nom': 'HEDDI', 'Sexe': 'F', 'Age': 23}\n",
      "{'Nom': 'JOUVE', 'Sexe': 'F', 'Age': 24}\n",
      "{'Nom': 'KALOMBO', 'Sexe': 'M', 'Age': 22}\n",
      "{'Nom': 'LOPEZ', 'Sexe': 'M', 'Age': 24}\n",
      "{'Nom': 'DANDOIS', 'Sexe': 'M', 'Age': 22}\n",
      "{'Nom': 'DEMMER', 'Sexe': 'M', 'Age': 22}\n",
      "{'Nom': 'ELKABBADJ', 'Sexe': 'M', 'Age': 23}\n",
      "{'Nom': 'FEROLDI', 'Sexe': 'M', 'Age': 23}\n",
      "{'Nom': 'GUERRAOUI', 'Sexe': 'F', 'Age': 25}\n",
      "{'Nom': 'BOISSEAU', 'Sexe': 'M', 'Age': 25}\n",
      "{'Nom': 'GUIGUI', 'Sexe': 'M', 'Age': 23}\n",
      "{'Nom': 'CLERICE', 'Sexe': 'F', 'Age': 23}\n",
      "{'Nom': 'LAZARRE', 'Sexe': 'M', 'Age': 27}\n",
      "{'Nom': 'AMAND', 'Sexe': 'M', 'Age': 30}\n",
      "{'Nom': 'LANOE', 'Sexe': 'F', 'Age': 30}\n",
      "{'Nom': 'CHESNIER', 'Sexe': 'M', 'Age': 30}\n",
      "{'Nom': 'DURIEU', 'Sexe': 'M', 'Age': 30}\n",
      "{'Nom': 'VONTHRON', 'Sexe': 'F', 'Age': 26}\n",
      "{'Nom': 'REGNAULD', 'Sexe': 'F', 'Age': 30}\n",
      "{'Nom': 'MARIE', 'Sexe': 'F', 'Age': 25}\n",
      "{'Nom': 'BELLAMY', 'Sexe': 'M', 'Age': 30}\n",
      "{'Nom': 'DELAROCHE', 'Sexe': 'M', 'Age': 30}\n",
      "{'Nom': 'MARTEL', 'Sexe': 'M', 'Age': 22}\n",
      "{'Nom': 'DALLIER', 'Sexe': 'M', 'Age': 30}\n",
      "{'Nom': 'AUVRAY', 'Sexe': 'M', 'Age': 30}\n",
      "{'Nom': 'HALGATTE', 'Sexe': 'F', 'Age': 30}\n",
      "{'Nom': 'HEON', 'Sexe': 'M', 'Age': 30}\n",
      "{'Nom': 'CHAUVIN', 'Sexe': 'M', 'Age': 30}\n",
      "{'Nom': 'HENRY', 'Sexe': 'M', 'Age': 30}\n",
      "{'Nom': 'HOCHET', 'Sexe': 'M', 'Age': 30}\n",
      "{'Nom': 'DROULLON', 'Sexe': 'F', 'Age': 30}\n",
      "{'Nom': 'LEROUX', 'Sexe': 'M', 'Age': 30}\n",
      "{'Nom': 'SALLAÏ', 'Sexe': 'M', 'Age': 28}\n",
      "{'Nom': 'HAMARD', 'Sexe': 'M', 'Age': 30}\n",
      "{'Nom': 'GALLOT', 'Sexe': 'M', 'Age': 30}\n",
      "{'Nom': 'COUESBOT', 'Sexe': 'M', 'Age': 30}\n",
      "{'Nom': 'LEJEUNE', 'Sexe': 'M', 'Age': 30}\n",
      "{'Nom': 'RIQUIER', 'Sexe': 'M', 'Age': 30}\n",
      "{'Nom': 'DUREL', 'Sexe': 'M', 'Age': 30}\n",
      "{'Nom': 'LECHEVALIER', 'Sexe': 'M', 'Age': 30}\n",
      "{'Nom': 'HERVIEU', 'Sexe': 'M', 'Age': 22}\n",
      "{'Nom': 'CAUCHARD', 'Sexe': 'M', 'Age': 30}\n",
      "{'Nom': 'EUSTACHE', 'Sexe': 'M', 'Age': 30}\n",
      "{'Nom': 'JANY', 'Sexe': 'M', 'Age': 30}\n",
      "{'Nom': 'BONHOMME', 'Sexe': 'M', 'Age': 30}\n",
      "{'Nom': 'RICHARD', 'Sexe': 'M', 'Age': 30}\n",
      "{'Nom': 'LESOIF', 'Sexe': 'M', 'Age': 30}\n",
      "{'Nom': 'SWERTVAEGER', 'Sexe': 'M', 'Age': 30}\n",
      "{'Nom': 'DUVAL', 'Sexe': 'M', 'Age': 30}\n",
      "{'Nom': 'LEMENOREL', 'Sexe': 'M', 'Age': 30}\n",
      "{'Nom': 'SEHIER', 'Sexe': 'F', 'Age': 30}\n",
      "{'Nom': 'STILO', 'Sexe': 'M', 'Age': 30}\n",
      "{'Nom': 'LE BANNARD', 'Sexe': 'M', 'Age': 30}\n",
      "{'Nom': 'BORNE', 'Sexe': 'M', 'Age': 30}\n",
      "{'Nom': 'LAURENCE', 'Sexe': 'M', 'Age': 30}\n",
      "{'Nom': 'SAUVAGE', 'Sexe': 'M', 'Age': 30}\n",
      "{'Nom': 'ROULLAND', 'Sexe': 'M', 'Age': 30}\n",
      "{'Nom': 'LESIEUR', 'Sexe': 'M', 'Age': 30}\n",
      "{'Nom': 'LUYCKX', 'Sexe': 'M', 'Age': 30}\n",
      "{'Nom': 'AVICE', 'Sexe': 'M', 'Age': 30}\n",
      "{'Nom': 'MICHEL', 'Sexe': 'F', 'Age': 22}\n",
      "{'Nom': 'LEMOUSSU', 'Sexe': 'M', 'Age': 30}\n",
      "{'Nom': 'BELUAU', 'Sexe': 'F', 'Age': 30}\n",
      "{'Nom': 'FERREIRA', 'Sexe': 'F', 'Age': 30}\n",
      "{'Nom': 'FROMENT', 'Sexe': 'M', 'Age': 30}\n",
      "{'Nom': 'GUITON', 'Sexe': 'M', 'Age': 30}\n",
      "{'Nom': 'LECOMTE', 'Sexe': 'M', 'Age': 30}\n",
      "{'Nom': 'HUET', 'Sexe': 'M', 'Age': 30}\n",
      "{'Nom': 'BECQUET', 'Sexe': 'F', 'Age': 30}\n",
      "{'Nom': 'LETHIMONNIER', 'Sexe': 'M', 'Age': 30}\n",
      "{'Nom': 'SWERTVAEGER', 'Sexe': 'F', 'Age': 30}\n",
      "{'Nom': 'JALON', 'Sexe': 'M', 'Age': 30}\n",
      "{'Nom': 'DEBOUT', 'Sexe': 'M', 'Age': 30}\n",
      "{'Nom': 'GASTELLIER', 'Sexe': 'M', 'Age': 30}\n",
      "{'Nom': 'GIRONIE', 'Sexe': 'M', 'Age': 30}\n",
      "{'Nom': 'DABON', 'Sexe': 'M', 'Age': 30}\n",
      "{'Nom': 'LECHAUVE', 'Sexe': 'M', 'Age': 30}\n",
      "{'Nom': 'GALLOIS', 'Sexe': 'F', 'Age': 30}\n",
      "{'Nom': 'DORON', 'Sexe': 'M', 'Age': 30}\n",
      "{'Nom': 'LENEVEU', 'Sexe': 'M', 'Age': 30}\n",
      "{'Nom': 'LERICHE', 'Sexe': 'M', 'Age': 30}\n",
      "{'Nom': 'MANCEL', 'Sexe': 'M', 'Age': 30}\n",
      "{'Nom': 'LABOULAIS', 'Sexe': 'F', 'Age': 26}\n",
      "{'Nom': 'DUDOUIT', 'Sexe': 'F', 'Age': 26}\n",
      "{'Nom': 'MADELAINE', 'Sexe': 'F', 'Age': 26}\n",
      "{'Nom': 'BESNARD', 'Sexe': 'F', 'Age': 26}\n",
      "{'Nom': 'BELZ', 'Sexe': 'F', 'Age': 26}\n",
      "{'Nom': 'BONNET', 'Sexe': 'F', 'Age': 26}\n",
      "{'Nom': 'CORNET', 'Sexe': 'F', 'Age': 26}\n",
      "{'Nom': 'BEUZELIN', 'Sexe': 'F', 'Age': 26}\n",
      "{'Nom': 'GRANDIDIER', 'Sexe': 'F', 'Age': 26}\n",
      "{'Nom': 'LENEVEU', 'Sexe': 'F', 'Age': 25}\n",
      "{'Nom': 'DABON', 'Sexe': 'M', 'Age': 25}\n",
      "{'Nom': 'CLERICE', 'Sexe': 'F', 'Age': 25}\n",
      "{'Nom': 'COMES', 'Sexe': 'F', 'Age': 27}\n",
      "{'Nom': 'BELZ', 'Sexe': 'F', 'Age': 27}\n",
      "{'Nom': 'BELZ', 'Sexe': 'M', 'Age': 25}\n",
      "{'Nom': 'HENRY', 'Sexe': 'M', 'Age': 25}\n"
     ]
    }
   ],
   "source": [
    "for x in athletes.find({\"Age\" : {\"$gte\": 20, \"$lte\": 30}}, {\"Nom\": 1, \"Age\": 1, \"_id\": 0, \"Sexe\": 1}):\n",
    "    print(x)"
   ]
  },
  {
   "cell_type": "code",
   "execution_count": 100,
   "metadata": {},
   "outputs": [
    {
     "name": "stdout",
     "output_type": "stream",
     "text": [
      "{'Nom': 'KERVADEC', 'Sports': {'Jouer': ['Basket ball', 'Volley ball', 'Ping pong', 'Football']}}\n",
      "{'Nom': 'COMES', 'Sports': {'Jouer': ['Basket ball', 'Volley ball', 'Badmington', 'Ping pong']}}\n",
      "{'Nom': 'RETALDI', 'Sports': {'Jouer': ['Basket ball', 'Volley ball', 'Hand ball', 'Ping pong']}}\n",
      "{'Nom': 'CAILLIOT', 'Sports': {'Jouer': ['Basket ball', 'Volley ball', 'Ping pong']}}\n",
      "{'Nom': 'TIENER', 'Sports': {'Jouer': ['Basket ball', 'Volley ball', 'Hand ball', 'Ping pong', 'Football']}}\n",
      "{'Nom': 'LEDUFAUD', 'Sports': {'Jouer': ['Basket ball', 'Volley ball', 'Ping pong', 'Football']}}\n",
      "{'Nom': 'LEJEUNE', 'Sports': {'Jouer': ['Basket ball', 'Volley ball', 'Badmington', 'Ping pong']}}\n",
      "{'Nom': 'RABAHI', 'Sports': {'Jouer': ['Basket ball', 'Volley ball', 'Hand ball', 'Ping pong', 'Football']}}\n",
      "{'Nom': 'VAN CAUTER', 'Sports': {'Jouer': ['Basket ball', 'Volley ball', 'Hand ball', 'Badmington', 'Ping pong', 'Football']}}\n",
      "{'Nom': 'TANQUE', 'Sports': {'Jouer': ['Basket ball', 'Volley ball', 'Hand ball', 'Ping pong', 'Football']}}\n",
      "{'Nom': 'DJELOUDANE', 'Sports': {'Jouer': ['Basket ball', 'Volley ball', 'Ping pong', 'Football']}}\n",
      "{'Nom': 'VALIN', 'Sports': {'Jouer': ['Basket ball', 'Hand ball', 'Badmington', 'Ping pong', 'Football']}}\n",
      "{'Nom': 'ADIBO', 'Sports': {'Jouer': ['Basket ball', 'Ping pong', 'Football']}}\n",
      "{'Nom': 'HEDDI', 'Sports': {'Jouer': ['Basket ball', 'Badmington', 'Ping pong']}}\n",
      "{'Nom': 'JOUVE', 'Sports': {'Jouer': ['Basket ball', 'Ping pong']}}\n",
      "{'Nom': 'KALOMBO', 'Sports': {'Jouer': ['Basket ball', 'Badmington', 'Ping pong', 'Football']}}\n",
      "{'Nom': 'LOPEZ', 'Sports': {'Jouer': ['Basket ball', 'Hand ball', 'Ping pong', 'Football']}}\n",
      "{'Nom': 'DANDOIS', 'Sports': {'Jouer': ['Basket ball', 'Badmington', 'Ping pong', 'Football']}}\n",
      "{'Nom': 'DEMMER', 'Sports': {'Jouer': ['Basket ball', 'Badmington', 'Ping pong', 'Football']}}\n",
      "{'Nom': 'GUERRAOUI', 'Sports': {'Jouer': ['Basket ball', 'Ping pong']}}\n",
      "{'Nom': 'GUIGUI', 'Sports': {'Jouer': ['Basket ball', 'Badmington', 'Ping pong', 'Football']}}\n",
      "{'Nom': 'CLERICE', 'Sports': {'Jouer': ['Basket ball', 'Badmington', 'Ping pong']}}\n",
      "{'Nom': 'AMAND', 'Sports': {'Jouer': ['Basket ball', 'Ping pong', 'Football']}}\n",
      "{'Nom': 'MARIE', 'Sports': {'Jouer': ['Basket ball', 'Hand ball', 'Ping pong']}}\n",
      "{'Nom': 'HEON', 'Sports': {'Jouer': ['Basket ball', 'Ping pong', 'Football']}}\n",
      "{'Nom': 'HOCHET', 'Sports': {'Jouer': ['Basket ball', 'Ping pong', 'Football']}}\n",
      "{'Nom': 'HAMARD', 'Sports': {'Jouer': ['Basket ball', 'Ping pong', 'Football']}}\n",
      "{'Nom': 'LEJEUNE', 'Sports': {'Jouer': ['Basket ball', 'Ping pong', 'Football']}}\n",
      "{'Nom': 'LECHEVALIER', 'Sports': {'Jouer': ['Basket ball', 'Ping pong', 'Football']}}\n",
      "{'Nom': 'LEROUX', 'Sports': {'Jouer': ['Basket ball', 'Hand ball', 'Ping pong', 'Football']}}\n",
      "{'Nom': 'RICHARD', 'Sports': {'Jouer': ['Basket ball', 'Hand ball', 'Ping pong', 'Football']}}\n",
      "{'Nom': 'STILO', 'Sports': {'Jouer': ['Basket ball', 'Hand ball', 'Ping pong', 'Football']}}\n",
      "{'Nom': 'LAURENCE', 'Sports': {'Jouer': ['Basket ball', 'Ping pong', 'Football']}}\n",
      "{'Nom': 'SAUVAGE', 'Sports': {'Jouer': ['Basket ball', 'Hand ball', 'Ping pong', 'Football']}}\n",
      "{'Nom': 'FROMENT', 'Sports': {'Jouer': ['Basket ball', 'Ping pong', 'Football']}}\n",
      "{'Nom': 'LETHIMONNIER', 'Sports': {'Jouer': ['Basket ball', 'Hand ball', 'Ping pong', 'Football']}}\n",
      "{'Nom': 'JALON', 'Sports': {'Jouer': ['Basket ball', 'Ping pong', 'Football']}}\n",
      "{'Nom': 'DABON', 'Sports': {'Jouer': ['Basket ball', 'Ping pong', 'Football']}}\n",
      "{'Nom': 'DORON', 'Sports': {'Jouer': ['Basket ball', 'Ping pong', 'Football']}}\n",
      "{'Nom': 'BELZ', 'Sports': {'Jouer': 'Basket ball'}}\n",
      "{'Nom': 'HENRY', 'Sports': {'Jouer': ['Basket ball', 'Hand ball']}}\n"
     ]
    }
   ],
   "source": [
    "for x in athletes.find({\"Sports.Jouer\" : \"Basket ball\"}, {\"Nom\": 1, \"Sports.Jouer\": 1, \"_id\": 0}):\n",
    "    print(x)"
   ]
  },
  {
   "cell_type": "code",
   "execution_count": 103,
   "metadata": {},
   "outputs": [
    {
     "name": "stdout",
     "output_type": "stream",
     "text": [
      "{'NomGymnase': 'PAUL ELUARD', 'Ville': 'SARCELLES'}\n",
      "{'NomGymnase': 'BRASSENS', 'Ville': 'SARCELLES'}\n",
      "{'NomGymnase': 'CAMUS', 'Ville': 'SARCELLES'}\n",
      "{'NomGymnase': 'SAMOURAI', 'Ville': 'SARCELLES'}\n",
      "{'NomGymnase': 'LUMIERES', 'Ville': 'SARCELLES'}\n",
      "{'NomGymnase': 'DOLTO', 'Ville': 'VILLETANEUSE'}\n",
      "{'NomGymnase': 'MERMOZ', 'Ville': 'VILLETANEUSE'}\n"
     ]
    }
   ],
   "source": [
    "for x in gymnases.find({\"$and\": [{\"Surface\" : {\"$gte\" : 400}}, {\"$or\" : [{\"Ville\" : \"VILLETANEUSE\"}, {\"Ville\" : \"SARCELLES\"}]}]}, {\"NomGymnase\": 1, \"Ville\": 1, \"_id\": 0}):\n",
    "    print(x)"
   ]
  },
  {
   "cell_type": "code",
   "execution_count": 111,
   "metadata": {},
   "outputs": [
    {
     "name": "stdout",
     "output_type": "stream",
     "text": [
      "{'NomGymnase': 'PAUL ELUARD', 'Ville': 'STAINS'}\n",
      "{'NomGymnase': 'PAUL ELUARD', 'Ville': 'SARCELLES'}\n",
      "{'NomGymnase': 'RAVEL', 'Ville': 'STAINS'}\n",
      "{'NomGymnase': 'SAMOURAI', 'Ville': 'SARCELLES'}\n",
      "{'NomGymnase': 'PABLO NERUDA', 'Ville': 'PIERREFITTE'}\n",
      "{'NomGymnase': 'LUMIERES', 'Ville': 'SARCELLES'}\n",
      "{'NomGymnase': 'SIMON', 'Ville': 'STAINS'}\n",
      "{'NomGymnase': 'PASCAL', 'Ville': 'VILLETANEUSE'}\n"
     ]
    }
   ],
   "source": [
    "for x in gymnases.find({\"$and\": [{\"Seances.Horaire\" : {\"$gte\" : 15.0}}, {\"Seances.Jour\" : \"mercredi\"}, {\"Seances.Libelle\" : \"Hockey\"}]}, {\"NomGymnase\": 1, \"Ville\": 1, \"_id\": 0}):\n",
    "    print(x)"
   ]
  },
  {
   "cell_type": "code",
   "execution_count": 117,
   "metadata": {},
   "outputs": [
    {
     "name": "stdout",
     "output_type": "stream",
     "text": [
      "{'_id': '566eec60662b388eba464252', 'Nom': 'DROULLON'}\n",
      "{'_id': '566eec60662b388eba464275', 'Nom': 'BELUAU'}\n",
      "{'_id': '566eec60662b388eba464276', 'Nom': 'FERREIRA'}\n",
      "{'_id': '566eec60662b388eba464284', 'Nom': 'GALLOIS'}\n",
      "{'_id': '566eec60662b388eba464292', 'Nom': 'LENEVEU'}\n",
      "{'_id': '566eec60662b388eba464293', 'Nom': 'DABON'}\n",
      "{'_id': '566eec60662b388eba464294', 'Nom': 'CLERICE'}\n",
      "{'_id': '566eec60662b388eba464295', 'Nom': 'COMES'}\n",
      "{'_id': '566eec60662b388eba464297', 'Nom': 'BELZ'}\n"
     ]
    }
   ],
   "source": [
    "for x in athletes.find({\"Sports.Jouer\" : None}, {\"Nom\" : 1}):\n",
    "    print(x)"
   ]
  },
  {
   "cell_type": "code",
   "execution_count": 121,
   "metadata": {},
   "outputs": [
    {
     "name": "stdout",
     "output_type": "stream",
     "text": [
      "{'_id': '566eec69662b388eba464299', 'NomGymnase': 'PAUL ELUARD'}\n",
      "{'_id': '566eec69662b388eba46429b', 'NomGymnase': 'SAINT EXUPERY'}\n",
      "{'_id': '566eec69662b388eba46429c', 'NomGymnase': 'PAUL ELUARD'}\n",
      "{'_id': '566eec69662b388eba46429d', 'NomGymnase': 'BRASSENS'}\n",
      "{'_id': '566eec69662b388eba46429e', 'NomGymnase': 'VERLAINE'}\n",
      "{'_id': '566eec69662b388eba46429f', 'NomGymnase': 'JULES FERRY'}\n",
      "{'_id': '566eec69662b388eba4642a1', 'NomGymnase': 'CAMUS'}\n",
      "{'_id': '566eec69662b388eba4642a3', 'NomGymnase': 'LAMARTINE'}\n",
      "{'_id': '566eec69662b388eba4642a7', 'NomGymnase': 'BREL'}\n",
      "{'_id': '566eec69662b388eba4642a8', 'NomGymnase': 'SAMOURAI'}\n",
      "{'_id': '566eec69662b388eba4642aa', 'NomGymnase': 'PABLO NERUDA'}\n",
      "{'_id': '566eec69662b388eba4642ac', 'NomGymnase': 'LUMIERES'}\n",
      "{'_id': '566eec69662b388eba4642ad', 'NomGymnase': 'SIMON'}\n",
      "{'_id': '566eec69662b388eba4642ae', 'NomGymnase': 'BARBARA'}\n",
      "{'_id': '566eec69662b388eba4642af', 'NomGymnase': 'ARAGON'}\n",
      "{'_id': '566eec69662b388eba4642b0', 'NomGymnase': 'BELFEGOR'}\n",
      "{'_id': '566eec69662b388eba4642b1', 'NomGymnase': 'DOLTO'}\n",
      "{'_id': '566eec69662b388eba4642b2', 'NomGymnase': 'MERMOZ'}\n",
      "{'_id': '566eec69662b388eba4642b3', 'NomGymnase': 'PASCAL'}\n"
     ]
    }
   ],
   "source": [
    "for x in gymnases.find({\"Seances.Jour\": {\"$nin\": [\"dimanche\"]}}, {\"NomGymnase\" : 1}):\n",
    "    print(x)"
   ]
  },
  {
   "cell_type": "code",
   "execution_count": 124,
   "metadata": {},
   "outputs": [
    {
     "name": "stdout",
     "output_type": "stream",
     "text": [
      "{'_id': '566eec69662b388eba464299', 'NomGymnase': 'PAUL ELUARD'}\n",
      "{'_id': '566eec69662b388eba46429a', 'NomGymnase': 'ARAGON'}\n",
      "{'_id': '566eec69662b388eba46429b', 'NomGymnase': 'SAINT EXUPERY'}\n",
      "{'_id': '566eec69662b388eba46429c', 'NomGymnase': 'PAUL ELUARD'}\n",
      "{'_id': '566eec69662b388eba46429d', 'NomGymnase': 'BRASSENS'}\n",
      "{'_id': '566eec69662b388eba4642a0', 'NomGymnase': 'PREVERT'}\n",
      "{'_id': '566eec69662b388eba4642a2', 'NomGymnase': 'RIMBAUD'}\n",
      "{'_id': '566eec69662b388eba4642a4', 'NomGymnase': 'MOZART'}\n",
      "{'_id': '566eec69662b388eba4642a5', 'NomGymnase': 'RAVEL'}\n",
      "{'_id': '566eec69662b388eba4642a6', 'NomGymnase': 'CHOPIN'}\n",
      "{'_id': '566eec69662b388eba4642a7', 'NomGymnase': 'BREL'}\n",
      "{'_id': '566eec69662b388eba4642a8', 'NomGymnase': 'SAMOURAI'}\n",
      "{'_id': '566eec69662b388eba4642a9', 'NomGymnase': 'GARCIA LORCA'}\n",
      "{'_id': '566eec69662b388eba4642aa', 'NomGymnase': 'PABLO NERUDA'}\n",
      "{'_id': '566eec69662b388eba4642ab', 'NomGymnase': 'COCTEAU'}\n",
      "{'_id': '566eec69662b388eba4642ad', 'NomGymnase': 'SIMON'}\n",
      "{'_id': '566eec69662b388eba4642ae', 'NomGymnase': 'BARBARA'}\n",
      "{'_id': '566eec69662b388eba4642b0', 'NomGymnase': 'BELFEGOR'}\n",
      "{'_id': '566eec69662b388eba4642b1', 'NomGymnase': 'DOLTO'}\n",
      "{'_id': '566eec69662b388eba4642b3', 'NomGymnase': 'PASCAL'}\n",
      "{'_id': '566eec69662b388eba4642b4', 'NomGymnase': 'BLAISE PASCAL'}\n"
     ]
    }
   ],
   "source": [
    "for x in gymnases.find({\"$or\" : [{\"Seances.Libelle\" : \"Basket ball\"}, {\"Seances.Libelle\": \"Volley ball\"}]}, {\"NomGymnase\" : 1}):\n",
    "    print(x)"
   ]
  },
  {
   "cell_type": "code",
   "execution_count": 126,
   "metadata": {},
   "outputs": [
    {
     "name": "stdout",
     "output_type": "stream",
     "text": [
      "{'_id': '566eec5f662b388eba464203', 'Nom': 'BOUTAHAR'}\n",
      "{'_id': '566eec5f662b388eba464204', 'Nom': 'KERVADEC'}\n",
      "{'_id': '566eec5f662b388eba464205', 'Nom': 'HUE'}\n",
      "{'_id': '566eec5f662b388eba464206', 'Nom': 'DORLEANS'}\n",
      "{'_id': '566eec5f662b388eba464208', 'Nom': 'RETALDI'}\n",
      "{'_id': '566eec5f662b388eba464209', 'Nom': 'GOMEZ'}\n",
      "{'_id': '566eec5f662b388eba46421e', 'Nom': 'ROUSSEL'}\n",
      "{'_id': '566eec5f662b388eba46421f', 'Nom': 'SCHINK'}\n",
      "{'_id': '566eec5f662b388eba464220', 'Nom': 'STEMPUT'}\n",
      "{'_id': '566eec5f662b388eba464221', 'Nom': 'VAN CAUTER'}\n",
      "{'_id': '566eec60662b388eba464224', 'Nom': 'TANQUE'}\n",
      "{'_id': '566eec60662b388eba464225', 'Nom': 'DJELOUDANE'}\n",
      "{'_id': '566eec60662b388eba464227', 'Nom': 'VASSEMON'}\n",
      "{'_id': '566eec60662b388eba464229', 'Nom': 'VALIN'}\n",
      "{'_id': '566eec60662b388eba464231', 'Nom': 'HEDDI'}\n",
      "{'_id': '566eec60662b388eba464233', 'Nom': 'KALOMBO'}\n",
      "{'_id': '566eec60662b388eba464239', 'Nom': 'GUERRAOUI'}\n",
      "{'_id': '566eec60662b388eba46423a', 'Nom': 'BOISSEAU'}\n",
      "{'_id': '566eec60662b388eba46423b', 'Nom': 'GUIGUI'}\n",
      "{'_id': '566eec60662b388eba46423c', 'Nom': 'CLERICE'}\n",
      "{'_id': '566eec60662b388eba46423d', 'Nom': 'TIZEGHAT'}\n",
      "{'_id': '566eec60662b388eba46423e', 'Nom': 'LAZARRE'}\n",
      "{'_id': '566eec60662b388eba464296', 'Nom': 'BELZ'}\n",
      "{'_id': '566eec60662b388eba464298', 'Nom': 'HENRY'}\n"
     ]
    }
   ],
   "source": [
    "for x in athletes.find({\"$and\" : [{\"Sports.Jouer\" : {\"$exists\": True}}, {\"Sports.Entrainer\":  {\"$exists\": True}}]}, {\"Nom\" : 1}):\n",
    "    print(x)"
   ]
  },
  {
   "cell_type": "code",
   "execution_count": 4,
   "metadata": {},
   "outputs": [
    {
     "name": "stdout",
     "output_type": "stream",
     "text": [
      "{'_id': '566eec5f662b388eba464203', 'Nom': 'BOUTAHAR'}\n",
      "{'_id': '566eec5f662b388eba464204', 'Nom': 'KERVADEC'}\n",
      "{'_id': '566eec5f662b388eba464205', 'Nom': 'HUE'}\n",
      "{'_id': '566eec5f662b388eba464206', 'Nom': 'DORLEANS'}\n",
      "{'_id': '566eec5f662b388eba464207', 'Nom': 'COMES'}\n",
      "{'_id': '566eec5f662b388eba464208', 'Nom': 'RETALDI'}\n",
      "{'_id': '566eec5f662b388eba464209', 'Nom': 'GOMEZ'}\n",
      "{'_id': '566eec5f662b388eba46420a', 'Nom': 'ANTUNES'}\n",
      "{'_id': '566eec5f662b388eba46420b', 'Nom': 'BLANDET'}\n",
      "{'_id': '566eec5f662b388eba46420c', 'Nom': 'BONNET'}\n",
      "{'_id': '566eec5f662b388eba46420d', 'Nom': 'BORREL'}\n",
      "{'_id': '566eec5f662b388eba46420e', 'Nom': 'BOYON'}\n",
      "{'_id': '566eec5f662b388eba46420f', 'Nom': 'CAILLIOT'}\n",
      "{'_id': '566eec5f662b388eba464210', 'Nom': 'CHAMPENOIS'}\n",
      "{'_id': '566eec5f662b388eba464211', 'Nom': 'COLAS'}\n",
      "{'_id': '566eec5f662b388eba464212', 'Nom': 'COLOMB'}\n",
      "{'_id': '566eec5f662b388eba464213', 'Nom': 'HOSNI'}\n",
      "{'_id': '566eec5f662b388eba464214', 'Nom': 'TESTEMONT'}\n",
      "{'_id': '566eec5f662b388eba464215', 'Nom': 'TIENER'}\n",
      "{'_id': '566eec5f662b388eba464216', 'Nom': 'LE BOUCHER'}\n",
      "{'_id': '566eec5f662b388eba464217', 'Nom': 'LEDUFAUD'}\n",
      "{'_id': '566eec5f662b388eba464218', 'Nom': 'LEGRAND'}\n",
      "{'_id': '566eec5f662b388eba464219', 'Nom': 'LEJEUNE'}\n",
      "{'_id': '566eec5f662b388eba46421a', 'Nom': 'MARTORA'}\n",
      "{'_id': '566eec5f662b388eba46421b', 'Nom': 'MICHEL'}\n",
      "{'_id': '566eec5f662b388eba46421c', 'Nom': 'NIELLEZ'}\n",
      "{'_id': '566eec5f662b388eba46421d', 'Nom': 'RABAHI'}\n",
      "{'_id': '566eec5f662b388eba46421e', 'Nom': 'ROUSSEL'}\n",
      "{'_id': '566eec5f662b388eba46421f', 'Nom': 'SCHINK'}\n",
      "{'_id': '566eec5f662b388eba464220', 'Nom': 'STEMPUT'}\n",
      "{'_id': '566eec5f662b388eba464221', 'Nom': 'VAN CAUTER'}\n",
      "{'_id': '566eec60662b388eba464222', 'Nom': 'RAMPNOUX'}\n",
      "{'_id': '566eec60662b388eba464223', 'Nom': 'LHERPINIERE'}\n",
      "{'_id': '566eec60662b388eba464224', 'Nom': 'TANQUE'}\n",
      "{'_id': '566eec60662b388eba464225', 'Nom': 'DJELOUDANE'}\n",
      "{'_id': '566eec60662b388eba464226', 'Nom': 'LAZZARI'}\n",
      "{'_id': '566eec60662b388eba464227', 'Nom': 'VASSEMON'}\n",
      "{'_id': '566eec60662b388eba464228', 'Nom': 'MOREL'}\n",
      "{'_id': '566eec60662b388eba464229', 'Nom': 'VALIN'}\n",
      "{'_id': '566eec60662b388eba46422a', 'Nom': 'DELOVINA'}\n",
      "{'_id': '566eec60662b388eba46422b', 'Nom': 'LEHOUX'}\n",
      "{'_id': '566eec60662b388eba46422c', 'Nom': 'MATHIEU'}\n",
      "{'_id': '566eec60662b388eba46422d', 'Nom': 'ADIBO'}\n",
      "{'_id': '566eec60662b388eba46422e', 'Nom': 'CHAVANT'}\n",
      "{'_id': '566eec60662b388eba46422f', 'Nom': 'DAUXIAN'}\n",
      "{'_id': '566eec60662b388eba464230', 'Nom': 'GROEN'}\n",
      "{'_id': '566eec60662b388eba464231', 'Nom': 'HEDDI'}\n",
      "{'_id': '566eec60662b388eba464232', 'Nom': 'JOUVE'}\n",
      "{'_id': '566eec60662b388eba464233', 'Nom': 'KALOMBO'}\n",
      "{'_id': '566eec60662b388eba464234', 'Nom': 'LOPEZ'}\n",
      "{'_id': '566eec60662b388eba464235', 'Nom': 'DANDOIS'}\n",
      "{'_id': '566eec60662b388eba464236', 'Nom': 'DEMMER'}\n",
      "{'_id': '566eec60662b388eba464237', 'Nom': 'ELKABBADJ'}\n",
      "{'_id': '566eec60662b388eba464238', 'Nom': 'FEROLDI'}\n",
      "{'_id': '566eec60662b388eba464239', 'Nom': 'GUERRAOUI'}\n",
      "{'_id': '566eec60662b388eba46423a', 'Nom': 'BOISSEAU'}\n",
      "{'_id': '566eec60662b388eba46423b', 'Nom': 'GUIGUI'}\n",
      "{'_id': '566eec60662b388eba46423c', 'Nom': 'CLERICE'}\n",
      "{'_id': '566eec60662b388eba46423d', 'Nom': 'TIZEGHAT'}\n",
      "{'_id': '566eec60662b388eba46423e', 'Nom': 'LAZARRE'}\n",
      "{'_id': '566eec60662b388eba46423f', 'Nom': 'BAZOUD'}\n",
      "{'_id': '566eec60662b388eba464240', 'Nom': 'AMAND'}\n",
      "{'_id': '566eec60662b388eba464241', 'Nom': 'LANOE'}\n",
      "{'_id': '566eec60662b388eba464242', 'Nom': 'CHESNIER'}\n",
      "{'_id': '566eec60662b388eba464243', 'Nom': 'DURIEU'}\n",
      "{'_id': '566eec60662b388eba464244', 'Nom': 'VONTHRON'}\n",
      "{'_id': '566eec60662b388eba464245', 'Nom': 'REGNAULD'}\n",
      "{'_id': '566eec60662b388eba464246', 'Nom': 'MARIE'}\n",
      "{'_id': '566eec60662b388eba464247', 'Nom': 'BELLAMY'}\n",
      "{'_id': '566eec60662b388eba464248', 'Nom': 'DELAROCHE'}\n",
      "{'_id': '566eec60662b388eba464249', 'Nom': 'MARTEL'}\n",
      "{'_id': '566eec60662b388eba46424a', 'Nom': 'DALLIER'}\n",
      "{'_id': '566eec60662b388eba46424b', 'Nom': 'AUVRAY'}\n",
      "{'_id': '566eec60662b388eba46424c', 'Nom': 'SARRAZIN'}\n",
      "{'_id': '566eec60662b388eba46424d', 'Nom': 'HALGATTE'}\n",
      "{'_id': '566eec60662b388eba46424e', 'Nom': 'HEON'}\n",
      "{'_id': '566eec60662b388eba46424f', 'Nom': 'CHAUVIN'}\n",
      "{'_id': '566eec60662b388eba464250', 'Nom': 'HENRY'}\n",
      "{'_id': '566eec60662b388eba464251', 'Nom': 'HOCHET'}\n",
      "{'_id': '566eec60662b388eba464252', 'Nom': 'DROULLON'}\n",
      "{'_id': '566eec60662b388eba464253', 'Nom': 'HOUEL'}\n",
      "{'_id': '566eec60662b388eba464254', 'Nom': 'LEROUX'}\n",
      "{'_id': '566eec60662b388eba464255', 'Nom': 'SALLAÏ'}\n",
      "{'_id': '566eec60662b388eba464256', 'Nom': 'HAMARD'}\n",
      "{'_id': '566eec60662b388eba464257', 'Nom': 'GALLOT'}\n",
      "{'_id': '566eec60662b388eba464258', 'Nom': 'COUESBOT'}\n",
      "{'_id': '566eec60662b388eba464259', 'Nom': 'LEJEUNE'}\n",
      "{'_id': '566eec60662b388eba46425a', 'Nom': 'RIQUIER'}\n",
      "{'_id': '566eec60662b388eba46425b', 'Nom': 'DUREL'}\n",
      "{'_id': '566eec60662b388eba46425c', 'Nom': 'LECHEVALIER'}\n",
      "{'_id': '566eec60662b388eba46425d', 'Nom': 'HERVIEU'}\n",
      "{'_id': '566eec60662b388eba46425e', 'Nom': 'CAUCHARD'}\n",
      "{'_id': '566eec60662b388eba46425f', 'Nom': 'LEROUX'}\n",
      "{'_id': '566eec60662b388eba464260', 'Nom': 'EUSTACHE'}\n",
      "{'_id': '566eec60662b388eba464261', 'Nom': 'JANY'}\n",
      "{'_id': '566eec60662b388eba464262', 'Nom': 'BONHOMME'}\n",
      "{'_id': '566eec60662b388eba464263', 'Nom': 'RICHARD'}\n",
      "{'_id': '566eec60662b388eba464264', 'Nom': 'BONE'}\n",
      "{'_id': '566eec60662b388eba464265', 'Nom': 'LESOIF'}\n",
      "{'_id': '566eec60662b388eba464266', 'Nom': 'SWERTVAEGER'}\n",
      "{'_id': '566eec60662b388eba464267', 'Nom': 'DUVAL'}\n",
      "{'_id': '566eec60662b388eba464268', 'Nom': 'LEMENOREL'}\n",
      "{'_id': '566eec60662b388eba464269', 'Nom': 'SEHIER'}\n",
      "{'_id': '566eec60662b388eba46426a', 'Nom': 'STILO'}\n",
      "{'_id': '566eec60662b388eba46426b', 'Nom': 'LE BANNARD'}\n",
      "{'_id': '566eec60662b388eba46426c', 'Nom': 'BORNE'}\n",
      "{'_id': '566eec60662b388eba46426d', 'Nom': 'LAURENCE'}\n",
      "{'_id': '566eec60662b388eba46426e', 'Nom': 'SAUVAGE'}\n",
      "{'_id': '566eec60662b388eba46426f', 'Nom': 'ROULLAND'}\n",
      "{'_id': '566eec60662b388eba464270', 'Nom': 'LESIEUR'}\n",
      "{'_id': '566eec60662b388eba464271', 'Nom': 'LUYCKX'}\n",
      "{'_id': '566eec60662b388eba464272', 'Nom': 'AVICE'}\n",
      "{'_id': '566eec60662b388eba464273', 'Nom': 'MICHEL'}\n",
      "{'_id': '566eec60662b388eba464274', 'Nom': 'LEMOUSSU'}\n",
      "{'_id': '566eec60662b388eba464275', 'Nom': 'BELUAU'}\n",
      "{'_id': '566eec60662b388eba464276', 'Nom': 'FERREIRA'}\n",
      "{'_id': '566eec60662b388eba464277', 'Nom': 'FROMENT'}\n",
      "{'_id': '566eec60662b388eba464278', 'Nom': 'GUITON'}\n",
      "{'_id': '566eec60662b388eba464279', 'Nom': 'LECOMTE'}\n",
      "{'_id': '566eec60662b388eba46427a', 'Nom': 'HUET'}\n",
      "{'_id': '566eec60662b388eba46427b', 'Nom': 'BECQUET'}\n",
      "{'_id': '566eec60662b388eba46427c', 'Nom': 'LETHIMONNIER'}\n",
      "{'_id': '566eec60662b388eba46427d', 'Nom': 'SWERTVAEGER'}\n",
      "{'_id': '566eec60662b388eba46427e', 'Nom': 'JALON'}\n",
      "{'_id': '566eec60662b388eba46427f', 'Nom': 'DEBOUT'}\n",
      "{'_id': '566eec60662b388eba464280', 'Nom': 'GASTELLIER'}\n",
      "{'_id': '566eec60662b388eba464281', 'Nom': 'GIRONIE'}\n",
      "{'_id': '566eec60662b388eba464282', 'Nom': 'DABON'}\n",
      "{'_id': '566eec60662b388eba464283', 'Nom': 'LECHAUVE'}\n",
      "{'_id': '566eec60662b388eba464284', 'Nom': 'GALLOIS'}\n",
      "{'_id': '566eec60662b388eba464285', 'Nom': 'DORON'}\n",
      "{'_id': '566eec60662b388eba464286', 'Nom': 'LENEVEU'}\n",
      "{'_id': '566eec60662b388eba464287', 'Nom': 'LERICHE'}\n",
      "{'_id': '566eec60662b388eba464288', 'Nom': 'MANCEL'}\n",
      "{'_id': '566eec60662b388eba464289', 'Nom': 'LABOULAIS'}\n",
      "{'_id': '566eec60662b388eba46428a', 'Nom': 'DUDOUIT'}\n",
      "{'_id': '566eec60662b388eba46428b', 'Nom': 'MADELAINE'}\n",
      "{'_id': '566eec60662b388eba46428c', 'Nom': 'BESNARD'}\n",
      "{'_id': '566eec60662b388eba46428d', 'Nom': 'BELZ'}\n",
      "{'_id': '566eec60662b388eba46428e', 'Nom': 'BONNET'}\n",
      "{'_id': '566eec60662b388eba46428f', 'Nom': 'CORNET'}\n",
      "{'_id': '566eec60662b388eba464290', 'Nom': 'BEUZELIN'}\n",
      "{'_id': '566eec60662b388eba464291', 'Nom': 'GRANDIDIER'}\n",
      "{'_id': '566eec60662b388eba464292', 'Nom': 'LENEVEU'}\n",
      "{'_id': '566eec60662b388eba464293', 'Nom': 'DABON'}\n",
      "{'_id': '566eec60662b388eba464294', 'Nom': 'CLERICE'}\n",
      "{'_id': '566eec60662b388eba464295', 'Nom': 'COMES'}\n",
      "{'_id': '566eec60662b388eba464296', 'Nom': 'BELZ'}\n",
      "{'_id': '566eec60662b388eba464297', 'Nom': 'BELZ'}\n",
      "{'_id': '566eec60662b388eba464298', 'Nom': 'HENRY'}\n"
     ]
    }
   ],
   "source": [
    "for x in athletes.find({\"Sport.Entrainer\": {\"$exists\" : False}}, {\"Nom\" : 1}):\n",
    "    print(x)"
   ]
  },
  {
   "cell_type": "code",
   "execution_count": 6,
   "metadata": {},
   "outputs": [
    {
     "name": "stderr",
     "output_type": "stream",
     "text": [
      "<ipython-input-6-fbb640e2f594>:1: DeprecationWarning: count is deprecated. Use Collection.count_documents instead.\n",
      "  athletes.find({\"Sport.Entrainer\": {\"$exists\" : False}}).count()\n"
     ]
    },
    {
     "data": {
      "text/plain": [
       "150"
      ]
     },
     "execution_count": 6,
     "metadata": {},
     "output_type": "execute_result"
    }
   ],
   "source": [
    "athletes.find({\"Sport.Entrainer\": {\"$exists\" : False}}).count()"
   ]
  },
  {
   "cell_type": "code",
   "execution_count": null,
   "metadata": {},
   "outputs": [],
   "source": []
  }
 ],
 "metadata": {
  "kernelspec": {
   "display_name": "Python 3",
   "language": "python",
   "name": "python3"
  },
  "language_info": {
   "codemirror_mode": {
    "name": "ipython",
    "version": 3
   },
   "file_extension": ".py",
   "mimetype": "text/x-python",
   "name": "python",
   "nbconvert_exporter": "python",
   "pygments_lexer": "ipython3",
   "version": "3.8.5"
  }
 },
 "nbformat": 4,
 "nbformat_minor": 4
}
